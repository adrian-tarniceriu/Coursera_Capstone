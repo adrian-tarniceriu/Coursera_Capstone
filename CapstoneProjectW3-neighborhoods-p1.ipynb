{
 "cells": [
  {
   "cell_type": "markdown",
   "metadata": {},
   "source": [
    "# Capstone Project Notebook - Week 3"
   ]
  },
  {
   "cell_type": "markdown",
   "metadata": {},
   "source": [
    "## Part 1/3"
   ]
  },
  {
   "cell_type": "code",
   "execution_count": 7,
   "metadata": {},
   "outputs": [
    {
     "name": "stdout",
     "output_type": "stream",
     "text": [
      "Solving environment: done\n",
      "\n",
      "\n",
      "==> WARNING: A newer version of conda exists. <==\n",
      "  current version: 4.5.11\n",
      "  latest version: 4.7.11\n",
      "\n",
      "Please update conda by running\n",
      "\n",
      "    $ conda update -n base -c defaults conda\n",
      "\n",
      "\n",
      "\n",
      "# All requested packages already installed.\n",
      "\n"
     ]
    }
   ],
   "source": [
    "# initial imports\n",
    "import pandas as pd \n",
    "import numpy as np \n",
    "import requests # library to handle requests\n",
    "\n",
    "import html5lib\n",
    "import urllib\n",
    "from urllib.request import urlopen\n",
    "from IPython.display import display_html\n",
    "\n",
    "!conda install -c conda-forge BeautifulSoup4 --yes \n",
    "from bs4 import BeautifulSoup\n",
    "\n",
    "#!conda install -c conda-forge geopy --yes \n",
    "#from geopy.geocoders import Nominatim # module to convert an address into latitude and longitude values\n",
    "\n",
    "# libraries for displaying images\n",
    "from IPython.display import Image \n",
    "from IPython.core.display import HTML \n",
    "    \n",
    "# tranforming json file into a pandas dataframe library\n",
    "from pandas.io.json import json_normalize\n",
    "\n",
    "#!conda install -c conda-forge folium=0.5.0 --yes\n",
    "#import folium # plotting library\n",
    "\n"
   ]
  },
  {
   "cell_type": "code",
   "execution_count": 87,
   "metadata": {},
   "outputs": [],
   "source": [
    "read the data:\n",
    "    \n",
    "    url = \"https://en.wikipedia.org/wiki/List_of_postal_codes_of_Canada:_M\"\n",
    "\n",
    "response = requests.get(url)\n",
    "content = response.text\n",
    "soup = BeautifulSoup(response.text, 'html.parser')\n",
    "#print(soup.prettify())\n",
    "#print(content)\n",
    "\n",
    "My_table = soup.find('table',{'class':'wikitable sortable'})\n",
    "#print(My_table)\n",
    "\n",
    "Code = []\n",
    "Borough = []\n",
    "Neighborhood = []\n",
    "\n",
    "for row in My_table.find_all('tr')[1:]:\n",
    "    #print(row)\n",
    "    #print(row.find_all('td')[0].text)\n",
    "    #print(row.find_all('td')[1].text)\n",
    "    #print(row.find_all('td')[2].text)\n",
    "    Code.append(row.find_all('td')[0].text)\n",
    "    Borough.append(row.find_all('td')[1].text)\n",
    "    Neighborhood.append(row.find_all('td')[2].text[:-1])\n",
    "\n",
    "    "
   ]
  },
  {
   "cell_type": "code",
   "execution_count": 106,
   "metadata": {},
   "outputs": [
    {
     "name": "stdout",
     "output_type": "stream",
     "text": [
      "   PostalCode           Borough      Neighborhood\n",
      "0         M3A        North York         Parkwoods\n",
      "1         M4A        North York  Victoria Village\n",
      "2         M5A  Downtown Toronto      Harbourfront\n",
      "3         M5A  Downtown Toronto       Regent Park\n",
      "4         M6A        North York  Lawrence Heights\n",
      "5         M6A        North York    Lawrence Manor\n",
      "6         M7A      Queen's Park      Queen's Park\n",
      "7         M9A         Etobicoke  Islington Avenue\n",
      "8         M1B       Scarborough             Rouge\n",
      "9         M1B       Scarborough           Malvern\n",
      "10        M3B        North York   Don Mills North\n",
      "11        M4B         East York  Woodbine Gardens\n"
     ]
    }
   ],
   "source": [
    "# create the dataframe\n",
    "column_names = ['PostalCode', 'Borough', 'Neighborhood'] \n",
    "# instantiate the dataframe\n",
    "neighborhoods = pd.DataFrame(columns=column_names)\n",
    "neighborhoods['PostalCode'] = Code\n",
    "neighborhoods['Borough'] = Borough\n",
    "neighborhoods['Neighborhood'] = Neighborhood\n",
    "\n",
    "neighborhoods = neighborhoods.reset_index(drop = True)\n",
    "#print(neighborhoods.head())\n",
    "\n",
    "# remove the \"Not assigned\" Borough lines\n",
    "neighborhoods = neighborhoods[neighborhoods.Borough != 'Not assigned']\n",
    "#print(neighborhoods.head(10))\n",
    "\n",
    "# If a cell has a borough but a Not assigned neighborhood, then the neighborhood will be the same as the borough\n",
    "neighborhoods.Neighborhood.loc[neighborhoods.Neighborhood == 'Not assigned'] = neighborhoods.Borough.loc[neighborhoods.Neighborhood == 'Not assigned']\n",
    "neighborhoods = neighborhoods.reset_index(drop = True)\n",
    "print(neighborhoods.head(12))"
   ]
  },
  {
   "cell_type": "code",
   "execution_count": 108,
   "metadata": {},
   "outputs": [
    {
     "data": {
      "text/plain": [
       "(211, 3)"
      ]
     },
     "execution_count": 108,
     "metadata": {},
     "output_type": "execute_result"
    }
   ],
   "source": [
    "# In the last cell of your notebook, use the .shape method to print the number of rows of your dataframe.\n",
    "neighborhoods.shape"
   ]
  },
  {
   "cell_type": "code",
   "execution_count": null,
   "metadata": {},
   "outputs": [],
   "source": []
  }
 ],
 "metadata": {
  "kernelspec": {
   "display_name": "Python",
   "language": "python",
   "name": "conda-env-python-py"
  },
  "language_info": {
   "codemirror_mode": {
    "name": "ipython",
    "version": 3
   },
   "file_extension": ".py",
   "mimetype": "text/x-python",
   "name": "python",
   "nbconvert_exporter": "python",
   "pygments_lexer": "ipython3",
   "version": "3.6.7"
  }
 },
 "nbformat": 4,
 "nbformat_minor": 4
}
